{
 "cells": [
  {
   "cell_type": "markdown",
   "metadata": {},
   "source": [
    "# MIDTERM"
   ]
  },
  {
   "cell_type": "markdown",
   "metadata": {},
   "source": [
    "import"
   ]
  },
  {
   "cell_type": "code",
   "execution_count": 1,
   "metadata": {},
   "outputs": [],
   "source": [
    "import requests\n",
    "import numpy as np\n",
    "import pandas as pd\n",
    "from bs4 import BeautifulSoup"
   ]
  },
  {
   "cell_type": "code",
   "execution_count": 43,
   "metadata": {},
   "outputs": [],
   "source": [
    "def getSoup(link):\n",
    "    r = requests.get(link)\n",
    "    r.encoding = 'UTF-8'\n",
    "    return BeautifulSoup(r.text,'lxml')"
   ]
  },
  {
   "cell_type": "code",
   "execution_count": 48,
   "metadata": {},
   "outputs": [
    {
     "name": "stdout",
     "output_type": "stream",
     "text": [
      "[<li> <a class=\"mw-redirect\" href=\"/mediawiki/Mrs._Cake\" title=\"Mrs. Cake\">Mrs. Cake</a></li>, <li> <a href=\"/mediawiki/Fred_Colon\" title=\"Fred Colon\">Fred Colon</a> (Sergeant, <a href=\"/mediawiki/Ankh-Morpork_City_Watch\" title=\"Ankh-Morpork City Watch\">City Watch</a>)</li>, <li> <a class=\"mw-redirect\" href=\"/mediawiki/Mrs._Marietta_Cosmopilite\" title=\"Mrs. Marietta Cosmopilite\">Mrs. Marietta Cosmopilite</a></li>, <li> <a href=\"/mediawiki/Detritus\" title=\"Detritus\">Detritus</a> (Sergeant, <a href=\"/mediawiki/Ankh-Morpork_City_Watch\" title=\"Ankh-Morpork City Watch\">City Watch</a>)</li>, <li> <a href=\"/mediawiki/Cut-Me-Own-Throat_Dibbler\" title=\"Cut-Me-Own-Throat Dibbler\">Cut-Me-Own-Throat Dibbler</a></li>, <li> <a href=\"/mediawiki/Dorfl\" title=\"Dorfl\">Dorfl</a>, (<a href=\"/mediawiki/Ankh-Morpork_City_Watch\" title=\"Ankh-Morpork City Watch\">City Watch</a>)</li>, <li> <a href=\"/mediawiki/Rufus_Drumknott\" title=\"Rufus Drumknott\">Rufus Drumknott</a> (current assistant to Lord <a href=\"/mediawiki/Havelock_Vetinari\" title=\"Havelock Vetinari\">Havelock Vetinari</a>)</li>, <li> <a href=\"/mediawiki/Gaspode\" title=\"Gaspode\">Gaspode</a> the Wonder Dog</li>, <li> <a href=\"/mediawiki/Carrot_Ironfoundersson\" title=\"Carrot Ironfoundersson\">Carrot Ironfoundersson</a> (Captain, <a href=\"/mediawiki/Ankh-Morpork_City_Watch\" title=\"Ankh-Morpork City Watch\">City Watch</a>)</li>, <li> <a href=\"/mediawiki/Leonard_of_Quirm\" title=\"Leonard of Quirm\">Leonard of Quirm</a></li>, <li> <a href=\"/mediawiki/Cheery_Littlebottom\" title=\"Cheery Littlebottom\">Cheery Littlebottom</a> (Sergeant, <a href=\"/mediawiki/Ankh-Morpork_City_Watch\" title=\"Ankh-Morpork City Watch\">City Watch</a>)</li>, <li> <a href=\"/mediawiki/Nobby_Nobbs\" title=\"Nobby Nobbs\">Nobby Nobbs</a> (Corporal, <a href=\"/mediawiki/Ankh-Morpork_City_Watch\" title=\"Ankh-Morpork City Watch\">City Watch</a>)</li>, <li> <a class=\"mw-redirect\" href=\"/mediawiki/Lady_Sybil_Ramkin\" title=\"Lady Sybil Ramkin\">Lady Sybil Ramkin</a>, Duchess of Ankh</li>, <li> <a href=\"/mediawiki/Foul_Ole_Ron\" title=\"Foul Ole Ron\">Foul Ole Ron</a></li>, <li> <a href=\"/mediawiki/Reg_Shoe\" title=\"Reg Shoe\">Reg Shoe</a>, (Constable, <a href=\"/mediawiki/Ankh-Morpork_City_Watch\" title=\"Ankh-Morpork City Watch\">City Watch</a>)</li>, <li> <a class=\"mw-redirect\" href=\"/mediawiki/Mr._Slant\" title=\"Mr. Slant\">Mr. Slant</a></li>, <li> <a href=\"/mediawiki/Angua_von_%C3%9Cberwald\" title=\"Angua von Überwald\">Angua von Überwald</a> (Captain, <a href=\"/mediawiki/Ankh-Morpork_City_Watch\" title=\"Ankh-Morpork City Watch\">City Watch</a>)</li>, <li> <a href=\"/mediawiki/Havelock_Vetinari\" title=\"Havelock Vetinari\">Lord Havelock Vetinari</a> (current <a href=\"/mediawiki/Patrician\" title=\"Patrician\">Patrician</a> of <a href=\"/mediawiki/Ankh-Morpork\" title=\"Ankh-Morpork\">Ankh-Morpork</a>)</li>, <li> <a href=\"/mediawiki/Samuel_Vimes\" title=\"Samuel Vimes\">Samuel Vimes</a> (Commander, <a href=\"/mediawiki/Ankh-Morpork_City_Watch\" title=\"Ankh-Morpork City Watch\">City Watch</a>, Duke of Ankh)</li>, <li> <a class=\"mw-redirect\" href=\"/mediawiki/Visit-the-Infidel-with-Explanatory-Pamphlets\" title=\"Visit-the-Infidel-with-Explanatory-Pamphlets\">Visit-the-Infidel-with-Explanatory-Pamphlets</a>, (Constable, <a href=\"/mediawiki/Ankh-Morpork_City_Watch\" title=\"Ankh-Morpork City Watch\">City Watch</a>)</li>, <li> <a href=\"/mediawiki/Willikins\" title=\"Willikins\">Willikins</a>, Butler to <a href=\"/mediawiki/Samuel_Vimes\" title=\"Samuel Vimes\">Samuel Vimes</a></li>]\n"
     ]
    }
   ],
   "source": [
    "soup = getSoup ('http://wiki.lspace.org/mediawiki/List_of_Pratchett_characters');\n",
    "\n",
    "lis = soup.find('span',{'id':'Unseen_University_and_the_Wizards'}).parent.previous.previous.parent.parent.parent.find_all('li')\n",
    "print(lis);"
   ]
  },
  {
   "cell_type": "code",
   "execution_count": 51,
   "metadata": {},
   "outputs": [
    {
     "name": "stdout",
     "output_type": "stream",
     "text": [
      "['http://wiki.lspace.org/mediawiki/Mrs._Cake', 'http://wiki.lspace.org/mediawiki/Fred_Colon', 'http://wiki.lspace.org/mediawiki/Mrs._Marietta_Cosmopilite', 'http://wiki.lspace.org/mediawiki/Detritus', 'http://wiki.lspace.org/mediawiki/Cut-Me-Own-Throat_Dibbler', 'http://wiki.lspace.org/mediawiki/Dorfl', 'http://wiki.lspace.org/mediawiki/Rufus_Drumknott', 'http://wiki.lspace.org/mediawiki/Gaspode', 'http://wiki.lspace.org/mediawiki/Carrot_Ironfoundersson', 'http://wiki.lspace.org/mediawiki/Leonard_of_Quirm', 'http://wiki.lspace.org/mediawiki/Cheery_Littlebottom', 'http://wiki.lspace.org/mediawiki/Nobby_Nobbs', 'http://wiki.lspace.org/mediawiki/Lady_Sybil_Ramkin', 'http://wiki.lspace.org/mediawiki/Foul_Ole_Ron', 'http://wiki.lspace.org/mediawiki/Reg_Shoe', 'http://wiki.lspace.org/mediawiki/Mr._Slant', 'http://wiki.lspace.org/mediawiki/Angua_von_%C3%9Cberwald', 'http://wiki.lspace.org/mediawiki/Havelock_Vetinari', 'http://wiki.lspace.org/mediawiki/Samuel_Vimes', 'http://wiki.lspace.org/mediawiki/Visit-the-Infidel-with-Explanatory-Pamphlets', 'http://wiki.lspace.org/mediawiki/Willikins']\n"
     ]
    }
   ],
   "source": [
    "def getAllLinks(link):\n",
    "    soup = getSoup(link)\n",
    "    lis = soup.find('span',{'id':'Unseen_University_and_the_Wizards'}).parent.previous.previous.parent.parent.parent.find_all('li')\n",
    "    return [ 'http://wiki.lspace.org' +ls.find('a')['href'] for ls in lis]\n",
    "\n",
    "links = getAllLinks('http://wiki.lspace.org/mediawiki/List_of_Pratchett_characters')\n",
    "print(links)"
   ]
  },
  {
   "cell_type": "markdown",
   "metadata": {},
   "source": [
    "Mam vsetky linky na potrebne stranky. Cas zistit knihy"
   ]
  },
  {
   "cell_type": "code",
   "execution_count": 113,
   "metadata": {},
   "outputs": [],
   "source": [
    "  def getBooks(link):\n",
    "        soup = getSoup(link)\n",
    "        source = soup.find_all('i') #'table class':'peopleTableCellName'}\n",
    "        \n",
    "        book = [el.text for el in source]\n",
    "        return  book;   # i need to only look in table contents but i dont know how\n",
    "    \n",
    "books= [getBooks(link) for link in links];  \n"
   ]
  },
  {
   "cell_type": "markdown",
   "metadata": {},
   "source": [
    "V tejto chvili mam staihnute nejake stringy ktore obsahuju aj nazov diela ale nie je to spravne. Na prvom mieste by sa ale mala nachádzať vždy knihy priliehajúca k postave. Cas ulozit to do framu"
   ]
  },
  {
   "cell_type": "code",
   "execution_count": 186,
   "metadata": {
    "scrolled": true
   },
   "outputs": [],
   "source": [
    "data = pd.DataFrame([[],[]])\n",
    "i =0;\n",
    "for link in links:\n",
    "    character= link.split('/')[-1]  \n",
    "    df2 = pd.DataFrame([books[i][2]],[character])\n",
    "    data=data.append(df2)\n",
    "    i=i+1\n",
    " \n"
   ]
  },
  {
   "cell_type": "markdown",
   "metadata": {},
   "source": [
    "Dava to nejaky pomerne zly vystup. Ale nie je to celkom bezpredmetne"
   ]
  },
  {
   "cell_type": "code",
   "execution_count": 166,
   "metadata": {},
   "outputs": [
    {
     "name": "stdout",
     "output_type": "stream",
     "text": [
      "                                                                                  0\n",
      "0                                                                               NaN\n",
      "1                                                                               NaN\n",
      "Mrs._Cake                                                                     Jingo\n",
      "Fred_Colon                                                               Soul Music\n",
      "Mrs._Marietta_Cosmopilite                                                Small Gods\n",
      "Detritus                                                            Moving Pictures\n",
      "Cut-Me-Own-Throat_Dibbler                                                Reaper Man\n",
      "Dorfl                                                            The Fifth Elephant\n",
      "Rufus_Drumknott                                                               Jingo\n",
      "Gaspode                                                          The Fifth Elephant\n",
      "Carrot_Ironfoundersson                                                  Men at Arms\n",
      "Leonard_of_Quirm                                                        Men at Arms\n",
      "Cheery_Littlebottom                                              The Fifth Elephant\n",
      "Nobby_Nobbs                                                               Hogfather\n",
      "Lady_Sybil_Ramkin                                                        née Ramkin\n",
      "Foul_Ole_Ron                                                              Hogfather\n",
      "Reg_Shoe                                      For the God of club musicians see Reg\n",
      "Mr._Slant                                                                     Jingo\n",
      "Angua_von_%C3%9Cberwald                                                Feet of Clay\n",
      "Havelock_Vetinari                                                   Guards! Guards!\n",
      "Samuel_Vimes                                                                  Thud!\n",
      "Visit-the-Infidel-with-Explanatory-Pamphlets                              Hogfather\n",
      "Willikins                                                                     Jingo\n"
     ]
    }
   ],
   "source": [
    "print(data)"
   ]
  },
  {
   "cell_type": "markdown",
   "metadata": {},
   "source": [
    "Odpovede na otazky, ktore uz ocividne nestiham"
   ]
  },
  {
   "cell_type": "code",
   "execution_count": 183,
   "metadata": {},
   "outputs": [
    {
     "data": {
      "text/plain": [
       "<span class=\"toctext\">Main Characters</span>"
      ]
     },
     "execution_count": 183,
     "metadata": {},
     "output_type": "execute_result"
    }
   ],
   "source": [
    "soup = getSoup('http://wiki.lspace.org/mediawiki/Book:Men_at_Arms')\n",
    "count= 0\n",
    "char = soup.find('span', {'id':'Main_Characters'}).parent\n",
    "\n",
    "def getNextSiblingOfStrong(link):\n",
    "    soup = getSoup(link)\n",
    "    strong = soup.find('span',text='Main Characters')\n",
    "   \n",
    "    return strong.next_sibling #wrong way to do it\n",
    "\n",
    "getNextSiblingOfStrong('http://wiki.lspace.org/mediawiki/Book:Men_at_Arms')\n",
    "\n"
   ]
  },
  {
   "cell_type": "code",
   "execution_count": null,
   "metadata": {},
   "outputs": [],
   "source": []
  }
 ],
 "metadata": {
  "kernelspec": {
   "display_name": "Python 3",
   "language": "python",
   "name": "python3"
  },
  "language_info": {
   "codemirror_mode": {
    "name": "ipython",
    "version": 3
   },
   "file_extension": ".py",
   "mimetype": "text/x-python",
   "name": "python",
   "nbconvert_exporter": "python",
   "pygments_lexer": "ipython3",
   "version": "3.7.4"
  }
 },
 "nbformat": 4,
 "nbformat_minor": 2
}
